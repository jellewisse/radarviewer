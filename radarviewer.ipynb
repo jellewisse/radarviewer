{
 "cells": [
  {
   "cell_type": "code",
   "execution_count": null,
   "metadata": {
    "collapsed": true
   },
   "outputs": [],
   "source": [
    "######################################\n",
    "# Get radar data from knmi webservice\n",
    "######################################"
   ]
  },
  {
   "cell_type": "code",
   "execution_count": 1,
   "metadata": {},
   "outputs": [
    {
     "name": "stdout",
     "output_type": "stream",
     "text": [
      "[50, 3.0]\n",
      "[53.5, 8.0]\n",
      "6446275.841017158 333958.4723798198\n",
      "7076025.276180581 890555.9263461898\n",
      "http://geoservices.knmi.nl/cgi-bin/RADNL_OPER_R___25PCPRR_L3.cgi?SERVICE=WMS&&SERVICE=WMS&VERSION=1.3.0&REQUEST=GetMap&LAYERS=RADNL_OPER_R___25PCPRR_L3_COLOR&WIDTH=1200&HEIGHT=600&CRS=EPSG%3A3857&BBOX=333958.4723798198,6446275.841017158,890555.9263461898,7076025.276180581&STYLES=default&FORMAT=image/png&TRANSPARENT=TRUE&&time=2017-02-11T17%3A00%3A00Z\n"
     ]
    }
   ],
   "source": [
    "\n",
    "import folium\n",
    "#import psycopg2 as ps\n",
    "from urllib import request\n",
    "import io\n",
    "from datetime import datetime\n",
    "from dateutil.relativedelta import relativedelta as rd\n",
    "from PIL import Image\n",
    "from folium import plugins\n",
    "from scipy.ndimage import imread\n",
    "from pyproj import Proj, transform\n",
    "\n",
    "def wgs842Streetview(lat,lon):\n",
    "    wgs84 = Proj(\"+init=EPSG:4326\")\n",
    "    streetview = Proj(\"+init=EPSG:3857\")\n",
    "    tlon,tlat = transform(wgs84,streetview,lon,lat)\n",
    "    return tlat,tlon\n",
    "\n",
    "\n",
    "def overlayRadarImage(latlonmax,latlonmin,w,h,dtg):\n",
    "\n",
    "    url = \"http://geoservices.knmi.nl/cgi-bin/RADNL_OPER_R___25PCPRR_L3.cgi?SERVICE=WMS&&SERVICE=WMS&VERSION=\"\n",
    "    url = url + \"1.3.0&REQUEST=GetMap&LAYERS=RADNL_OPER_R___25PCPRR_L3_COLOR&WIDTH=%s&HEIGHT=%s&CRS=EPSG%%3A3857\"\n",
    "    url = url + \"&BBOX=%s,%s,%s,%s&STYLES=default&FORMAT\"\n",
    "    url = url + \"=image/png&TRANSPARENT=TRUE&&time=%s\"\n",
    "\n",
    "    dtgstr = dtg.strftime('%Y-%m-%dT%H%%3A%M%%3A00Z')\n",
    "\n",
    "    slatmin, slonmin = wgs842Streetview(latlonmin[0],latlonmin[1])\n",
    "    slatmax,slonmax = wgs842Streetview(latlonmax[0],latlonmax[1])\n",
    "\n",
    "    print(latlonmin)\n",
    "    print(latlonmax)\n",
    "    print(slatmin,slonmin)\n",
    "    print(slatmax, slonmax)\n",
    "\n",
    "    #URL = URL %(w,h,slatmin,slonmin,slatmax,slonmax,dtgstr)\n",
    "    url = url % (w, h, slonmin, slatmin, slonmax, slatmax, dtgstr)\n",
    "    print(url)\n",
    "\n",
    "    file = io.BytesIO(request.urlopen(url).read())\n",
    "    data = imread(file)\n",
    "\n",
    "    location = [(latlonmax[0] + latlonmin[0])/2,(latlonmax[1] + latlonmin[1])/2]\n",
    "    bounds=[latlonmax,latlonmin]\n",
    "    m = folium.Map(location=location, zoom_start=7)\n",
    "    m.add_child(plugins.ImageOverlay(data,bounds,opacity=0.8))\n",
    "    return m\n",
    "\n",
    "    #img = Image.open(file)\n",
    "\n",
    "latlonmax = [53.5,8.0]\n",
    "latlonmin = [50,3.0]\n",
    "h=600\n",
    "w=1200\n",
    "dtg = datetime(2017,2,11,17,0)\n",
    "\n",
    "map = overlayRadarImage(h=h,w=w, latlonmax=latlonmax,latlonmin=latlonmin,dtg=dtg)\n",
    "\n",
    "#while dtg < datetime(2017,2,12,10):\n",
    "#    dtg = dtg + rd(minutes = 30)\n",
    "#    map = overlayRadarImage(h=h,w=w, latlonmax=latlonmax,latlonmin=latlonmin,dtg=dtg)\n",
    "#    map.save(dtg.strftime(\"%Y%m%d%H%M\")+\".html\")\n",
    "\n",
    "\n",
    "\n",
    "#2017-08-10T15%3A00%3A00Z\n",
    "#[50, 6.0]\n",
    "#[53.5, 3.0]\n",
    "#6446275.841017158 667916.9447596424\n",
    "#7076025.276180581 333958.4723798198\n"
   ]
  }
 ],
 "metadata": {
  "kernelspec": {
   "display_name": "Python 3",
   "language": "python",
   "name": "python3"
  },
  "language_info": {
   "codemirror_mode": {
    "name": "ipython",
    "version": 3
   },
   "file_extension": ".py",
   "mimetype": "text/x-python",
   "name": "python",
   "nbconvert_exporter": "python",
   "pygments_lexer": "ipython3",
   "version": "3.6.1"
  }
 },
 "nbformat": 4,
 "nbformat_minor": 2
}
